{
 "cells": [
  {
   "cell_type": "code",
   "execution_count": 3,
   "metadata": {},
   "outputs": [],
   "source": [
    "import tensorflow as tf\n",
    "import datetime"
   ]
  },
  {
   "cell_type": "code",
   "execution_count": 4,
   "metadata": {},
   "outputs": [],
   "source": [
    "fashion_mnist = tf.keras.datasets.fashion_mnist\n",
    "(x_train, y_train), (x_test, y_test) = fashion_mnist.load_data()\n",
    "x_train, x_test = x_train/255.0, x_test/255.0"
   ]
  },
  {
   "cell_type": "code",
   "execution_count": 6,
   "metadata": {},
   "outputs": [
    {
     "name": "stdout",
     "output_type": "stream",
     "text": [
      "Train on 60000 samples, validate on 10000 samples\n",
      "Epoch 1/3\n",
      "60000/60000 [==============================] - 4s 67us/step - loss: 0.6950 - acc: 0.7543 - val_loss: 0.4927 - val_acc: 0.8224\n",
      "Epoch 2/3\n",
      "60000/60000 [==============================] - 3s 54us/step - loss: 0.4964 - acc: 0.8210 - val_loss: 0.4460 - val_acc: 0.8406\n",
      "Epoch 3/3\n",
      "60000/60000 [==============================] - 3s 57us/step - loss: 0.4630 - acc: 0.8325 - val_loss: 0.4241 - val_acc: 0.8467\n",
      "10000/10000 [==============================] - 0s 13us/step\n"
     ]
    },
    {
     "data": {
      "text/plain": [
       "[0.4240912842035294, 0.8467]"
      ]
     },
     "execution_count": 6,
     "metadata": {},
     "output_type": "execute_result"
    }
   ],
   "source": [
    "def train_test_model(run_dir, hparams):\n",
    "    model = tf.keras.models.Sequential([\n",
    "        tf.keras.layers.Flatten(),\n",
    "        tf.keras.layers.Dense(hparams['num_units'], activation=tf.nn.relu),\n",
    "        tf.keras.layers.Dropout(hparams['dropout_rate']),\n",
    "        tf.keras.layers.Dense(10, activation=tf.nn.softmax)\n",
    "    ])\n",
    "    \n",
    "    model.compile(optimizer=hparams['optimizer'],\n",
    "                 loss='sparse_categorical_crossentropy',\n",
    "                 metrics=['accuracy'])\n",
    "    \n",
    "    model.fit(x_train, y_train,\n",
    "              validation_data=(x_test, y_test),\n",
    "              epochs=3,\n",
    "              callbacks=[tf.keras.callbacks.TensorBoard(run_dir + \"/keras\")])\n",
    "    \n",
    "    scores = model.evaluate(x_test, y_test)\n",
    "    return scores\n",
    "\n",
    "train_test_model(\"/tmp/fashion-mnist\", \n",
    "                 {'num_units':16,\n",
    "                 'dropout_rate': 0.1,\n",
    "                 'optimizer':'adam'})"
   ]
  }
 ],
 "metadata": {
  "kernelspec": {
   "display_name": "Python 3",
   "language": "python",
   "name": "python3"
  },
  "language_info": {
   "codemirror_mode": {
    "name": "ipython",
    "version": 3
   },
   "file_extension": ".py",
   "mimetype": "text/x-python",
   "name": "python",
   "nbconvert_exporter": "python",
   "pygments_lexer": "ipython3",
   "version": "3.6.9"
  }
 },
 "nbformat": 4,
 "nbformat_minor": 2
}
